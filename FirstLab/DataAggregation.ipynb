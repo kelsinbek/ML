{
 "cells": [
  {
   "cell_type": "markdown",
   "id": "d9b131fc-8041-482d-85f9-7eee70ac99d5",
   "metadata": {},
   "source": [
    "# Zarlykov Kelsinbek Ain-1-21\n",
    "# Data Aggregation and Group Operations\n"
   ]
  },
  {
   "cell_type": "code",
   "execution_count": 20,
   "id": "cb4c999b-d148-4455-9f0a-1f88dbdc10cc",
   "metadata": {
    "ExecuteTime": {
     "end_time": "2024-02-28T16:45:06.445793Z",
     "start_time": "2024-02-28T16:45:06.436243Z"
    }
   },
   "outputs": [],
   "source": [
    "import pandas as pd\n",
    "import numpy as np"
   ]
  },
  {
   "cell_type": "code",
   "execution_count": 21,
   "id": "d634d70f-3c02-4633-8c29-5eb55f7a575e",
   "metadata": {
    "ExecuteTime": {
     "end_time": "2024-02-28T16:45:07.413571900Z",
     "start_time": "2024-02-28T16:45:07.403528400Z"
    }
   },
   "outputs": [],
   "source": [
    "data = {\n",
    "    'Дата': ['2023-01-01', '2023-01-05', '2023-02-10', '2023-02-15', '2023-03-03'],\n",
    "    'Сумма': [100, 200, 150, 300, 250],\n",
    "    'Тип': ['покупка', 'перевод', 'покупка', 'снятие', 'перевод'],\n",
    "    'Клиент': ['Клиент1', 'Клиент2', 'Клиент1', 'Клиент3', 'Клиент2']\n",
    "} \n"
   ]
  },
  {
   "cell_type": "code",
   "execution_count": 22,
   "id": "3e1b522f-f6ca-46c9-afd3-beb80debbdbc",
   "metadata": {
    "ExecuteTime": {
     "end_time": "2024-02-28T16:45:08.001862900Z",
     "start_time": "2024-02-28T16:45:07.991851600Z"
    }
   },
   "outputs": [],
   "source": [
    "# Преобразуйте столбец 'Дата' в формат datetime\n",
    "data['Дата'] = pd.to_datetime(data['Дата'])\n"
   ]
  },
  {
   "cell_type": "code",
   "execution_count": 23,
   "id": "a00c2b75-7ad2-4a56-b137-592f501ca4f4",
   "metadata": {
    "ExecuteTime": {
     "end_time": "2024-02-28T16:45:08.470642500Z",
     "start_time": "2024-02-28T16:45:08.459627600Z"
    }
   },
   "outputs": [],
   "source": [
    "# Группируйте данные по клиентам и суммируем сумму транзакций для каждого клиента\n",
    "df = pd.DataFrame(data)\n",
    "grouped_data = df.groupby('Клиент')['Сумма'].sum().reset_index()"
   ]
  },
  {
   "cell_type": "code",
   "execution_count": 24,
   "outputs": [],
   "source": [
    "# Группируйте данные по типу транзакции и вычисляем среднюю сумму транзакций\n",
    "group_data = df.groupby('Тип')['Сумма'].mean().reset_index()"
   ],
   "metadata": {
    "collapsed": false,
    "ExecuteTime": {
     "end_time": "2024-02-28T16:45:08.759464700Z",
     "start_time": "2024-02-28T16:45:08.746347200Z"
    }
   },
   "id": "434bc3a3e5b8c695"
  },
  {
   "cell_type": "code",
   "execution_count": 25,
   "outputs": [],
   "source": [
    "# Добавьте столбец с месяцем транзакции\n",
    "df['Месяц'] = df['Дата'].dt.month"
   ],
   "metadata": {
    "collapsed": false,
    "ExecuteTime": {
     "end_time": "2024-02-28T16:45:09.021607Z",
     "start_time": "2024-02-28T16:45:09.009467500Z"
    }
   },
   "id": "1b822276429e6059"
  },
  {
   "cell_type": "code",
   "execution_count": 26,
   "outputs": [],
   "source": [
    "# Группируйте данные по клиентам и месяцам и суммируем сумму транзакций для каждого клиента в каждом месяце\n",
    "grouped_data_every_month = df.groupby(['Клиент', df['Дата'].dt.month])['Сумма'].sum().reset_index()\n"
   ],
   "metadata": {
    "collapsed": false,
    "ExecuteTime": {
     "end_time": "2024-02-28T16:45:09.293205400Z",
     "start_time": "2024-02-28T16:45:09.281435600Z"
    }
   },
   "id": "89f50e5195fb2f62"
  },
  {
   "cell_type": "code",
   "execution_count": 27,
   "outputs": [
    {
     "name": "stdout",
     "output_type": "stream",
     "text": [
      "Сумма суммы транзакций по типу:\n",
      " Тип\n",
      "перевод    450\n",
      "покупка    250\n",
      "снятие     300\n",
      "Name: Сумма, dtype: int64 \n",
      "\n",
      "Среднее значение суммы транзакций по клиентам:\n",
      " Клиент\n",
      "Клиент1    125.0\n",
      "Клиент2    225.0\n",
      "Клиент3    300.0\n",
      "Name: Сумма, dtype: float64 \n",
      "\n",
      "Минимальная сумма транзакции по месяцам:\n",
      " Дата\n",
      "1    100\n",
      "2    150\n",
      "3    250\n",
      "Name: Сумма, dtype: int64 \n",
      "\n",
      "Максимальная сумма транзакции по клиентам и типу:\n",
      " Клиент   Тип    \n",
      "Клиент1  покупка    150\n",
      "Клиент2  перевод    250\n",
      "Клиент3  снятие     300\n",
      "Name: Сумма, dtype: int64 \n"
     ]
    }
   ],
   "source": [
    "# примините основные агрегирующие операции : \n",
    "# Сумма суммы транзакций по типу\n",
    "sum_by_type = df.groupby('Тип')['Сумма'].sum()\n",
    "print(\"Сумма суммы транзакций по типу:\\n\", sum_by_type, '\\n')\n",
    "\n",
    "# Среднее значение суммы транзакций по клиентам\n",
    "mean_by_client = df.groupby('Клиент')['Сумма'].mean()\n",
    "print(\"Среднее значение суммы транзакций по клиентам:\\n\", mean_by_client, '\\n')\n",
    "\n",
    "# Минимальная сумма транзакции по месяцам\n",
    "min_by_month = df.groupby(df['Дата'].dt.month)['Сумма'].min()\n",
    "print(\"Минимальная сумма транзакции по месяцам:\\n\", min_by_month, '\\n')\n",
    "\n",
    "# Максимальная сумма транзакции по клиентам и типу\n",
    "max_by_client_type = df.groupby(['Клиент', 'Тип'])['Сумма'].max()\n",
    "print(\"Максимальная сумма транзакции по клиентам и типу:\\n\", max_by_client_type, '\\n')\n"
   ],
   "metadata": {
    "collapsed": false,
    "ExecuteTime": {
     "end_time": "2024-02-28T16:45:09.525769800Z",
     "start_time": "2024-02-28T16:45:09.513631900Z"
    }
   },
   "id": "cce8980c3ee4fb0b"
  },
  {
   "cell_type": "code",
   "execution_count": 28,
   "outputs": [
    {
     "name": "stdout",
     "output_type": "stream",
     "text": [
      "    Клиент  Сумма\n",
      "0  Клиент1    250\n",
      "1  Клиент2    450\n",
      "2  Клиент3    300\n"
     ]
    }
   ],
   "source": [
    "# Посчитать общую сумму операций для каждого клиента.\n",
    "total_sum_by_client = df.groupby('Клиент')['Сумма'].sum().reset_index()\n",
    "print(total_sum_by_client)\n"
   ],
   "metadata": {
    "collapsed": false,
    "ExecuteTime": {
     "end_time": "2024-02-28T16:45:09.773596500Z",
     "start_time": "2024-02-28T16:45:09.764554200Z"
    }
   },
   "id": "4e5947171783ab13"
  },
  {
   "cell_type": "code",
   "execution_count": 29,
   "outputs": [
    {
     "name": "stdout",
     "output_type": "stream",
     "text": [
      "Общая сумма операций для каждого клиента:\n",
      " Клиент\n",
      "Клиент1    250\n",
      "Клиент2    450\n",
      "Клиент3    300\n",
      "Name: Сумма, dtype: int64 \n",
      "\n",
      "Средняя сумма операции для каждого типа операции:\n",
      " Тип\n",
      "перевод    225.0\n",
      "покупка    125.0\n",
      "снятие     300.0\n",
      "Name: Сумма, dtype: float64 \n"
     ]
    }
   ],
   "source": [
    "# Найти среднюю сумму операции для каждого типа операции.\n",
    "# Общая сумма операций для каждого клиента\n",
    "total_sum_by_client = df.groupby('Клиент')['Сумма'].sum()\n",
    "print(\"Общая сумма операций для каждого клиента:\\n\", total_sum_by_client, '\\n')\n",
    "\n",
    "# Средняя сумма операции для каждого типа операции\n",
    "average_sum_by_type = df.groupby('Тип')['Сумма'].mean()\n",
    "print(\"Средняя сумма операции для каждого типа операции:\\n\", average_sum_by_type, '\\n')"
   ],
   "metadata": {
    "collapsed": false,
    "ExecuteTime": {
     "end_time": "2024-02-28T16:45:10.038694800Z",
     "start_time": "2024-02-28T16:45:10.028677400Z"
    }
   },
   "id": "e4b7fc748ab4d469"
  },
  {
   "cell_type": "code",
   "execution_count": 30,
   "outputs": [
    {
     "name": "stdout",
     "output_type": "stream",
     "text": [
      "День с наибольшей суммой операций: 2023-02-15\n",
      "Общая сумма операций в этот день: 300\n"
     ]
    }
   ],
   "source": [
    "# Определить день с наибольшей суммой операций.\n",
    "# Группировка данных по дню и подсчет общей суммы операций в каждый день\n",
    "sum_by_day = df.groupby(df['Дата'].dt.date)['Сумма'].sum()\n",
    "\n",
    "# Нахождение дня с наибольшей суммой операций\n",
    "max_sum_day = sum_by_day.idxmax()\n",
    "\n",
    "print(\"День с наибольшей суммой операций:\", max_sum_day)\n",
    "print(\"Общая сумма операций в этот день:\", sum_by_day[max_sum_day])"
   ],
   "metadata": {
    "collapsed": false,
    "ExecuteTime": {
     "end_time": "2024-02-28T16:45:10.294180400Z",
     "start_time": "2024-02-28T16:45:10.283012300Z"
    }
   },
   "id": "31f799ee91b4ecec"
  },
  {
   "cell_type": "code",
   "execution_count": 31,
   "outputs": [
    {
     "name": "stdout",
     "output_type": "stream",
     "text": [
      "Общая сумма операций за каждый месяц:\n",
      " Дата\n",
      "2023-01    300\n",
      "2023-02    450\n",
      "2023-03    250\n",
      "Freq: M, Name: Сумма, dtype: int64\n"
     ]
    }
   ],
   "source": [
    "# Рассчитать общую сумму операций за каждый месяц\n",
    "total_sum_by_month = df.groupby(df['Дата'].dt.to_period('M'))['Сумма'].sum()\n",
    "\n",
    "# Вывод результатов\n",
    "print(\"Общая сумма операций за каждый месяц:\\n\", total_sum_by_month)"
   ],
   "metadata": {
    "collapsed": false,
    "ExecuteTime": {
     "end_time": "2024-02-28T16:45:10.509410800Z",
     "start_time": "2024-02-28T16:45:10.502105Z"
    }
   },
   "id": "d8bd01111a154f32"
  },
  {
   "cell_type": "code",
   "execution_count": 32,
   "outputs": [
    {
     "name": "stdout",
     "output_type": "stream",
     "text": [
      "Клиент с наибольшей общей суммой операций: Клиент2\n",
      "Общая сумма операций для этого клиента: 450\n"
     ]
    }
   ],
   "source": [
    "# Группировка данных по клиенту и подсчет общей суммы операций для каждого клиента\n",
    "total_sum_by_client = df.groupby('Клиент')['Сумма'].sum()\n",
    "\n",
    "# Нахождение клиента с наибольшей общей суммой операций\n",
    "max_sum_client = total_sum_by_client.idxmax()\n",
    "\n",
    "print(\"Клиент с наибольшей общей суммой операций:\", max_sum_client)\n",
    "print(\"Общая сумма операций для этого клиента:\", total_sum_by_client[max_sum_client])\n"
   ],
   "metadata": {
    "collapsed": false,
    "ExecuteTime": {
     "end_time": "2024-02-28T16:45:10.749177800Z",
     "start_time": "2024-02-28T16:45:10.738662500Z"
    }
   },
   "id": "90617fd7740ddd69"
  },
  {
   "cell_type": "code",
   "execution_count": 33,
   "outputs": [
    {
     "name": "stdout",
     "output_type": "stream",
     "text": [
      "Общее количество операций для каждого типа:\n",
      " Тип\n",
      "покупка    2\n",
      "перевод    2\n",
      "снятие     1\n",
      "Name: count, dtype: int64\n"
     ]
    }
   ],
   "source": [
    "# Посчитать общее количество операций для каждого типа\n",
    "total_operations_by_type = df['Тип'].value_counts()\n",
    "\n",
    "# Вывод результатов\n",
    "print(\"Общее количество операций для каждого типа:\\n\", total_operations_by_type)"
   ],
   "metadata": {
    "collapsed": false,
    "ExecuteTime": {
     "end_time": "2024-02-28T16:45:10.977162700Z",
     "start_time": "2024-02-28T16:45:10.971649800Z"
    }
   },
   "id": "fd653951f14fe335"
  },
  {
   "cell_type": "code",
   "execution_count": 34,
   "outputs": [
    {
     "name": "stdout",
     "output_type": "stream",
     "text": [
      "День с наибольшим количеством операций: 2023-01-01 00:00:00\n",
      "Количество операций в этот день: 1\n"
     ]
    }
   ],
   "source": [
    "# Подсчет количества операций для каждого дня\n",
    "operations_by_day = df['Дата'].value_counts()\n",
    "\n",
    "# Определить день с наибольшим количеством операций\n",
    "max_operations_day = operations_by_day.idxmax()\n",
    "\n",
    "print(\"День с наибольшим количеством операций:\", max_operations_day)\n",
    "print(\"Количество операций в этот день:\", operations_by_day[max_operations_day])\n"
   ],
   "metadata": {
    "collapsed": false,
    "ExecuteTime": {
     "end_time": "2024-02-28T16:45:11.190523900Z",
     "start_time": "2024-02-28T16:45:11.178419600Z"
    }
   },
   "id": "1e848f4a15e2e06c"
  },
  {
   "cell_type": "code",
   "execution_count": 35,
   "outputs": [
    {
     "name": "stdout",
     "output_type": "stream",
     "text": [
      "Клиент с наибольшим количеством операций: Клиент1\n",
      "Количество операций для этого клиента: 2\n"
     ]
    }
   ],
   "source": [
    "# Подсчет количества операций для каждого клиента\n",
    "operations_by_client = df['Клиент'].value_counts()\n",
    "\n",
    "# Найти клиента, который совершил наибольшее количество операций\n",
    "max_operations_client = operations_by_client.idxmax()\n",
    "\n",
    "print(\"Клиент с наибольшим количеством операций:\", max_operations_client)\n",
    "print(\"Количество операций для этого клиента:\", operations_by_client[max_operations_client])"
   ],
   "metadata": {
    "collapsed": false,
    "ExecuteTime": {
     "end_time": "2024-02-28T16:45:11.404759900Z",
     "start_time": "2024-02-28T16:45:11.395739200Z"
    }
   },
   "id": "7838b2fe01ac17c6"
  }
 ],
 "metadata": {
  "kernelspec": {
   "display_name": "Python 3 (ipykernel)",
   "language": "python",
   "name": "python3"
  },
  "language_info": {
   "codemirror_mode": {
    "name": "ipython",
    "version": 3
   },
   "file_extension": ".py",
   "mimetype": "text/x-python",
   "name": "python",
   "nbconvert_exporter": "python",
   "pygments_lexer": "ipython3",
   "version": "3.11.5"
  }
 },
 "nbformat": 4,
 "nbformat_minor": 5
}
